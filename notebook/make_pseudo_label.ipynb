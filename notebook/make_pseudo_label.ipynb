{
 "cells": [
  {
   "cell_type": "code",
   "execution_count": 90,
   "id": "5c257d5a-d486-4928-b611-b32c0b696ba6",
   "metadata": {},
   "outputs": [],
   "source": [
    "import pandas as pd\n",
    "import numpy as np\n",
    "import cv2\n",
    "import matplotlib.pyplot as plt\n",
    "from matplotlib.patches import Patch\n",
    "%matplotlib inline"
   ]
  },
  {
   "cell_type": "code",
   "execution_count": 91,
   "id": "3c34d8be-3f01-43af-b3c1-8ecc5e430306",
   "metadata": {},
   "outputs": [],
   "source": [
    "# CSV형식을 numpy형식으로 변환 \n",
    "def decode(rle_mask):\n",
    "    # print(rle_mask)\n",
    "    mask = rle_mask.split()\n",
    "    # print(mask)\n",
    "    img = np.zeros(256*256, dtype=np.uint8)\n",
    "    for i, m, in enumerate(mask):\n",
    "        img[i] = int(m)\n",
    "    return img.reshape(256,256)"
   ]
  },
  {
   "cell_type": "code",
   "execution_count": 49,
   "id": "3b2b8488-7022-4107-a3f4-f8d877c41dd4",
   "metadata": {},
   "outputs": [
    {
     "data": {
      "text/plain": [
       "<Figure size 1080x1080 with 0 Axes>"
      ]
     },
     "metadata": {},
     "output_type": "display_data"
    }
   ],
   "source": [
    "df = pd.read_csv('best.csv') # 변환할 CSV파일\n",
    "test_path = '/opt/ml/input/data/' # test이미지가 있는 상위 폴더\n",
    "img_path = \"/opt/ml/input/mmseg/images/\" # 변환된 jpg이미지가 저장될 폴더\n",
    "ann_path = \"/opt/ml/input/mmseg/annotations/\" # 변환된 png어노테이션이 저장될 폴더\n",
    "\n",
    "with open(\"train_2_test.txt\", \"a\") as f: # 기존의 train 데이터의 txt파일에서 pseudo를 추가 시켜 준다.\n",
    "    for i in range(len(df)):      \n",
    "        decoded_mask = decode(df.loc[i,'PredictionString'])\n",
    "        decoded_mask = cv2.resize(decoded_mask, (512,512), interpolation=cv2.INTER_NEAREST) # 256 -> 512\n",
    "        orig_img = cv2.imread(test_path+f'{df[\"image_id\"][i]}')\n",
    "        cv2.imwrite(img_path+f'pseudo_{i}.jpg', orig_img) # image\n",
    "        cv2.imwrite(ann_path+f'pseudo_{i}.png', decoded_mask) # annotations\n",
    "        f.write(f'\\npseudo_{i}')"
   ]
  },
  {
   "cell_type": "code",
   "execution_count": null,
   "id": "c0819d1d-f865-4647-9e06-eb225048cb51",
   "metadata": {},
   "outputs": [],
   "source": []
  }
 ],
 "metadata": {
  "kernelspec": {
   "display_name": "mmseg",
   "language": "python",
   "name": "mmseg"
  },
  "language_info": {
   "codemirror_mode": {
    "name": "ipython",
    "version": 3
   },
   "file_extension": ".py",
   "mimetype": "text/x-python",
   "name": "python",
   "nbconvert_exporter": "python",
   "pygments_lexer": "ipython3",
   "version": "3.7.13"
  }
 },
 "nbformat": 4,
 "nbformat_minor": 5
}
