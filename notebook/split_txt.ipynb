{
 "cells": [
  {
   "cell_type": "code",
   "execution_count": 7,
   "id": "6d4a6c73-a86f-48fd-b202-ed11be950990",
   "metadata": {},
   "outputs": [],
   "source": [
    "import json"
   ]
  },
  {
   "cell_type": "code",
   "execution_count": 20,
   "id": "76672191-57bf-402b-8bc9-0fd6da364b1a",
   "metadata": {},
   "outputs": [],
   "source": [
    "for i in range(5):\n",
    "    with open(f'../data/splited/train_{i}.json') as f:   # train json 파일\n",
    "        train = json.load(f)\n",
    "    with open(f\"train_{i}.txt\",'w') as f:\n",
    "        for j in train['images']:\n",
    "            f.write(j['file_name'].split('.')[0].replace('/','')+'\\n')\n",
    "            \n",
    "    with open(f'../data/splited/valid_{i}.json') as f:   # valid json 파일\n",
    "        valid = json.load(f)\n",
    "    with open(f\"valid_{i}.txt\",'w') as f:\n",
    "        for k in valid['images']:\n",
    "            f.write(k['file_name'].split('.')[0].replace('/','')+'\\n')"
   ]
  }
 ],
 "metadata": {
  "kernelspec": {
   "display_name": "Python 3 (ipykernel)",
   "language": "python",
   "name": "python3"
  },
  "language_info": {
   "codemirror_mode": {
    "name": "ipython",
    "version": 3
   },
   "file_extension": ".py",
   "mimetype": "text/x-python",
   "name": "python",
   "nbconvert_exporter": "python",
   "pygments_lexer": "ipython3",
   "version": "3.8.5"
  }
 },
 "nbformat": 4,
 "nbformat_minor": 5
}
