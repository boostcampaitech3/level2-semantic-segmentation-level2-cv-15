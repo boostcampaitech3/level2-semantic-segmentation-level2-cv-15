{
 "cells": [
  {
   "cell_type": "code",
   "execution_count": 38,
   "id": "595285c4-0e35-446f-b657-a5697548a076",
   "metadata": {},
   "outputs": [],
   "source": [
    "import pandas as pd\n",
    "from tqdm import tqdm\n",
    "import os\n",
    "\n",
    "# 앙상블할 output.csv 파일들을 한 폴더에 넣어줍니다.\n",
    "# 파일명 앞을 점수로 넣어서 성능이 좋은 순서대로 정렬되도록 했습니다.\n",
    "output_list = os.listdir('./output/ens/ens05')\n",
    "output_list.sort(reverse=True)"
   ]
  },
  {
   "cell_type": "code",
   "execution_count": 39,
   "id": "e5363780-3472-4689-8039-983ce50c866a",
   "metadata": {},
   "outputs": [
    {
     "name": "stdout",
     "output_type": "stream",
     "text": [
      "6 ['7225종현.csv', '6882정현.csv', '6623현진.csv', '6537진혁.csv', '6389정균.csv', '6282규리.csv']\n"
     ]
    }
   ],
   "source": [
    "output_list=output_list[:6]\n",
    "print(len(output_list),output_list)"
   ]
  },
  {
   "cell_type": "code",
   "execution_count": 40,
   "id": "de1815ee-b094-4eb0-94da-af81991f3077",
   "metadata": {},
   "outputs": [
    {
     "name": "stderr",
     "output_type": "stream",
     "text": [
      "100%|██████████| 624/624 [05:48<00:00,  1.79it/s]\n"
     ]
    }
   ],
   "source": [
    "# pandas dataframe으로 만들어줍니다.\n",
    "df_list = []\n",
    "\n",
    "for output in output_list:\n",
    "    df_list.append(pd.read_csv(f'./output/ens/ens05/{output}'))\n",
    "\n",
    "# submission dataframe\n",
    "submission = pd.DataFrame()\n",
    "submission['image_id'] = df_list[0]['image_id']\n",
    "\n",
    "# pixel-wise hard voting 진행\n",
    "PredictionString = []\n",
    "\n",
    "for idx in tqdm(range(len(df_list[0]))):\n",
    "    # 각 모델이 뽑은 pixel 넣을 리스트\n",
    "    pixel_list = []\n",
    "    \n",
    "    for i in range(len(df_list)):\n",
    "        pixel_list.append(df_list[i]['PredictionString'][idx].split(' '))\n",
    "\n",
    "    result = ''\n",
    "\n",
    "    for i in range(len(pixel_list[0])):\n",
    "        pixel_count = {'0' : 0, '1' : 0, '2' : 0, \n",
    "                      '3' : 0, '4' : 0, '5' : 0,\n",
    "                      '6' : 0, '7' : 0, '8' : 0,\n",
    "                      '9' : 0, '10' : 0}\n",
    "        \n",
    "        # 각 모델이 뽑은 pixel count\n",
    "        for j in range(len(pixel_list)):\n",
    "            pixel_count[pixel_list[j][i]] += 1\n",
    "        \n",
    "        # 제일 많이 vote된 pixel 값\n",
    "        voted_pixel = [key for key, value in pixel_count.items() if value == max(pixel_count.values())]\n",
    "\n",
    "        # voted_pixel이 1개인 경우\n",
    "        if len(voted_pixel) == 1:\n",
    "            result += voted_pixel[0] + ' '\n",
    "        # 동점이 나온 경우\n",
    "        else:\n",
    "            # 성능이 좋았던 모델부터 값이 voted_pixel에 있다면 result로 고르기\n",
    "            for j in range(len(pixel_list)):\n",
    "                pixel_candidate = pixel_list[j][i]\n",
    "\n",
    "                if pixel_candidate in voted_pixel:\n",
    "                    result += pixel_candidate + ' '\n",
    "                    break\n",
    "    \n",
    "    # 마지막 공백 제거\n",
    "    result = result[:-1]\n",
    "\n",
    "    PredictionString.append(result)\n",
    "\n",
    "# submission csv 만들기\n",
    "submission['PredictionString'] = PredictionString\n",
    "submission.to_csv('./hard_voted_output05.csv', index=False)"
   ]
  },
  {
   "cell_type": "code",
   "execution_count": null,
   "id": "86f735b2-0591-425c-becf-33c40b1089d6",
   "metadata": {},
   "outputs": [],
   "source": []
  },
  {
   "cell_type": "code",
   "execution_count": null,
   "id": "5b4798f7-301d-410a-be30-14c44179e1e3",
   "metadata": {},
   "outputs": [],
   "source": []
  }
 ],
 "metadata": {
  "kernelspec": {
   "display_name": "base2",
   "language": "python",
   "name": "base2"
  },
  "language_info": {
   "codemirror_mode": {
    "name": "ipython",
    "version": 3
   },
   "file_extension": ".py",
   "mimetype": "text/x-python",
   "name": "python",
   "nbconvert_exporter": "python",
   "pygments_lexer": "ipython3",
   "version": "3.8.5"
  }
 },
 "nbformat": 4,
 "nbformat_minor": 5
}
