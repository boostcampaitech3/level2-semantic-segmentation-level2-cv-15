{
 "cells": [
  {
   "cell_type": "code",
   "execution_count": 5,
   "id": "a8a848e8-5ef7-4ad0-bc7e-931c4705531e",
   "metadata": {},
   "outputs": [],
   "source": [
    "import pickle\n",
    "import numpy as np"
   ]
  },
  {
   "cell_type": "code",
   "execution_count": 11,
   "id": "0b72fb3b-9d4d-4ef9-8453-4a0eb9244dc0",
   "metadata": {},
   "outputs": [],
   "source": [
    "import json\n",
    "import pandas as pd\n",
    "import os"
   ]
  },
  {
   "cell_type": "code",
   "execution_count": 6,
   "id": "f202b8b0-d4aa-4a40-ad17-e174f8769302",
   "metadata": {},
   "outputs": [
    {
     "name": "stdout",
     "output_type": "stream",
     "text": [
      "(624, 512, 512)\n"
     ]
    }
   ],
   "source": [
    "\n",
    "output = []\n",
    "\n",
    "with open(\"./output/09_ocrnet_r101-d8_50e.bin\", \"rb\") as f:\n",
    "    output_mmseg1 = pickle.load(f)\n",
    "    \n",
    "with open(\"./output/12_hr18_ocr_50e_best50e.bin\", \"rb\") as f:\n",
    "    output_mmseg2 = pickle.load(f)\n",
    "\n",
    "\n",
    "for predict1, predict2 in zip(output_mmseg1, output_mmseg2):\n",
    "    predict = predict1 + predict2\n",
    "    predict = predict.argmax(axis=0)\n",
    "    output.append(predict)\n",
    "\n",
    "output = np.array(output)\n",
    "print(output.shape)"
   ]
  },
  {
   "cell_type": "code",
   "execution_count": 12,
   "id": "f716c371-0da6-42e1-b09f-d712b0798150",
   "metadata": {},
   "outputs": [],
   "source": [
    "# sample_submisson.csv 열기\n",
    "submission = pd.read_csv('./output/sample_submission.csv', index_col=None)\n",
    "json_dir = os.path.join(\"../input/data/test.json\")\n",
    "with open(json_dir, \"r\", encoding=\"utf8\") as outfile:\n",
    "    datas = json.load(outfile)\n",
    "\n",
    "input_size = 512\n",
    "output_size = 256\n",
    "bin_size = input_size // output_size\n",
    "\t\t\n",
    "# PredictionString 대입\n",
    "for image_id, predict in enumerate(output):\n",
    "    image_id = datas[\"images\"][image_id]\n",
    "    file_name = image_id[\"file_name\"]\n",
    "    \n",
    "    temp_mask = []\n",
    "    predict = predict.reshape(1, 512, 512)\n",
    "    mask = predict.reshape((1, output_size, bin_size, output_size, bin_size)).max(4).max(2) # resize to 256*256\n",
    "    temp_mask.append(mask)\n",
    "    oms = np.array(temp_mask)\n",
    "    oms = oms.reshape([oms.shape[0], output_size*output_size]).astype(int)\n",
    "\n",
    "    string = oms.flatten()\n",
    "\n",
    "    submission = submission.append({\"image_id\" : file_name, \"PredictionString\" : ' '.join(str(e) for e in string.tolist())}, \n",
    "                                   ignore_index=True)\n",
    "\n",
    "# submission.csv로 저장\n",
    "submission.to_csv(os.path.join('./output/', f'ensemble_temp.csv'), index=False)"
   ]
  }
 ],
 "metadata": {
  "kernelspec": {
   "display_name": "base2",
   "language": "python",
   "name": "base2"
  },
  "language_info": {
   "codemirror_mode": {
    "name": "ipython",
    "version": 3
   },
   "file_extension": ".py",
   "mimetype": "text/x-python",
   "name": "python",
   "nbconvert_exporter": "python",
   "pygments_lexer": "ipython3",
   "version": "3.8.5"
  }
 },
 "nbformat": 4,
 "nbformat_minor": 5
}
